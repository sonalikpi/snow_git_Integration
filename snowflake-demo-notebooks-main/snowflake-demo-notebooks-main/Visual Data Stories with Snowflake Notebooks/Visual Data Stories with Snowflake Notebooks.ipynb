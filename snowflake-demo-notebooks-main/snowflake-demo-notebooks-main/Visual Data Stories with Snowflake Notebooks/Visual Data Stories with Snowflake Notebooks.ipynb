{
  "metadata": {
    "kernelspec": {
      "display_name": "Streamlit Notebook",
      "name": "streamlit"
    }
  },
  "nbformat_minor": 5,
  "nbformat": 4,
  "cells": [
    {
      "cell_type": "markdown",
      "id": "60aa4826-ef81-4217-9dbd-336397e056c0",
      "metadata": {
        "name": "cell1",
        "collapsed": false
      },
      "source": "# Visual Data Stories with Snowflake Notebooks\n\nIn this tutorial, we will walk you through the different ways you can enrich your data narrative through engaging visuals in Snowflake Notebooks. We will demonstrate how you can develop visualizations, work with Markdown text, embed images, and build awesome data apps all within your notebook, alongside your code and data.\n\n**Requirements:** Please add the `matplotlib` and `plotly` package from the package picker on the top right. We will be using these packages in the notebook."
    },
    {
      "cell_type": "code",
      "id": "7e1072e0-562d-4584-92f9-988e3d0e7465",
      "metadata": {
        "language": "python",
        "name": "cell2",
        "codeCollapsed": false
      },
      "outputs": [],
      "source": "# Import python packages\nimport streamlit as st\nimport pandas as pd",
      "execution_count": null
    },
    {
      "cell_type": "markdown",
      "id": "27269da4-823f-4a23-8324-5ccd5db61720",
      "metadata": {
        "name": "cell3",
        "collapsed": false
      },
      "source": "## Data visualizations \ud83d\udcca\n\nWith Snowflake Notebook, you can use your favorite Python visualization library, including matplotlib and plotly, to develop your visualization.\n\nFirst, let's generate some toy data for the Iris dataset."
    },
    {
      "cell_type": "code",
      "id": "3775908f-ca36-4846-8f38-5adca39217f2",
      "metadata": {
        "language": "python",
        "name": "cell4",
        "collapsed": false,
        "codeCollapsed": false
      },
      "source": "# Sample data\nspecies = [\"setosa\"] * 3 + [\"versicolor\"] * 3 + [\"virginica\"] * 3\nmeasurements = [\"sepal_length\", \"sepal_width\", \"petal_length\"] * 3\nvalues = [5.1, 3.5, 1.4, 6.2, 2.9, 4.3, 7.3, 3.0, 6.3]\ndf = pd.DataFrame({\"species\": species,\"measurement\": measurements,\"value\": values})\ndf",
      "execution_count": null,
      "outputs": []
    },
    {
      "cell_type": "markdown",
      "id": "a09c95f7-fa25-438b-b470-ac8fada5f81b",
      "metadata": {
        "name": "cell5",
        "collapsed": false
      },
      "source": "## Plotting with Altair\n\nNow let's plot a bar chart in Altair. You can learn more about Altair [here](https://altair-viz.github.io/)."
    },
    {
      "cell_type": "code",
      "id": "c695373e-ac74-4b62-a1f1-08206cbd5c81",
      "metadata": {
        "language": "python",
        "name": "cell6",
        "collapsed": false,
        "codeCollapsed": false
      },
      "source": "import altair as alt\nalt.Chart(df).mark_bar().encode(\n    x= alt.X(\"measurement\", axis = alt.Axis(labelAngle=0)),\n    y=\"value\",\n    color=\"species\"\n).properties(\n    width=700,\n    height=500\n)",
      "execution_count": null,
      "outputs": []
    },
    {
      "cell_type": "markdown",
      "id": "c9d4c99b-ede6-4479-8d32-6e09b6f71d25",
      "metadata": {
        "name": "cell7",
        "collapsed": false
      },
      "source": "## Plotting with Matplotlib\n\nLet's do the same with matplotlib. Note how convenient it is to do `df.plot` with your dataframe with pandas. This uses matplotlib underneath the hood to generate the plots. You can learn more about pandas's [pd.DataFrame.plot](https://pandas.pydata.org/docs/reference/api/pandas.DataFrame.plot.html) and about matplotlib [here](https://matplotlib.org/)."
    },
    {
      "cell_type": "markdown",
      "id": "43c32c25-81a4-419f-b608-cdf47622a779",
      "metadata": {
        "name": "cell8",
        "collapsed": false
      },
      "source": "First, let's pivot our data so that our data is stacked."
    },
    {
      "cell_type": "code",
      "id": "b6116057-246f-40cd-826a-a9248bf964e4",
      "metadata": {
        "language": "python",
        "name": "cell9",
        "codeCollapsed": false
      },
      "outputs": [],
      "source": "pivot_df = pd.pivot_table(data=df, index=['measurement'], columns=['species'], values='value')",
      "execution_count": null
    },
    {
      "cell_type": "markdown",
      "id": "42a4631e-c732-4057-b17a-ac49774c2e99",
      "metadata": {
        "name": "cell10",
        "collapsed": false
      },
      "source": "We build a quick Streamlit app to visualize the pivot operation. (Don't worry we will discuss what the `st.` Streamlit  commands mean later in the tutorial!)"
    },
    {
      "cell_type": "code",
      "id": "8a710644-5e81-465c-8e58-8a8b00c3fa09",
      "metadata": {
        "language": "python",
        "name": "cell11",
        "codeCollapsed": false
      },
      "outputs": [],
      "source": "col1, col2 = st.columns(2)\nwith col1: \n    st.markdown(\"Old Dataframe\")\n    st.dataframe(df)    \nwith col2:\n    st.markdown(\"Pivoted Dataframe\")\n    st.dataframe(pivot_df)",
      "execution_count": null
    },
    {
      "cell_type": "markdown",
      "id": "5fd5e631-a64e-4863-bc7d-414dad84cb06",
      "metadata": {
        "name": "cell12",
        "collapsed": false
      },
      "source": "Now let's use matplotlib to plot the stacked bar chart."
    },
    {
      "cell_type": "code",
      "id": "31bc1cc5-f8fd-48e5-a736-a3b6bad7f5cc",
      "metadata": {
        "language": "python",
        "name": "cell13",
        "collapsed": false,
        "codeCollapsed": false
      },
      "outputs": [],
      "source": "import matplotlib.pyplot as plt\nax = pivot_df.plot.bar(stacked=True)\n_ = ax.set_xticklabels(list(pivot_df.index), rotation=0)",
      "execution_count": null
    },
    {
      "cell_type": "markdown",
      "id": "e422914e-f52d-40d9-ae08-cbe4dc651c90",
      "metadata": {
        "name": "cell14",
        "collapsed": false
      },
      "source": "## Plotting with Plotly\n\nFinally, let's do the same plot with plotly. Learn more about plotly [here](https://plotly.com/python/plotly-express/)."
    },
    {
      "cell_type": "code",
      "id": "9fa98ac8-0731-4076-b575-4f79f2204f28",
      "metadata": {
        "language": "python",
        "name": "cell15",
        "collapsed": false,
        "codeCollapsed": false
      },
      "outputs": [],
      "source": "import plotly.express as px\npx.bar(df, x='measurement', y='value', color='species')",
      "execution_count": null
    },
    {
      "cell_type": "markdown",
      "id": "8105c206-febd-48c6-a2e2-88881894a8d6",
      "metadata": {
        "name": "cell16",
        "collapsed": false
      },
      "source": "## Develop your narrative with Markdown cells\n\nWith Snowflake Notebooks, you can leverage Markdown language to develop rich text displays with formatting. \n\nYou can change a cell type to render Markdown by clicking on the dropdown on the top left to select `Markdown` (or use `m` as the hotkey to convert a cell type to Markdown)."
    },
    {
      "cell_type": "markdown",
      "id": "629ff770-3d1c-46a2-ac4b-299b0e4663c9",
      "metadata": {
        "name": "cell17",
        "collapsed": false
      },
      "source": "# Top-level Header \nMarkdown: `# Top-level Header`\n\n## 2nd-level Header \nMarkdown: `## 2nd-level Header`\n\n### 3rd-level Header \nMarkdown: `### 3rd-level Header`"
    },
    {
      "cell_type": "markdown",
      "id": "640931e5-d7c7-44d4-a311-155abf60af4e",
      "metadata": {
        "name": "cell18",
        "collapsed": false
      },
      "source": "### Inline Text Formatting\n\nHere is some *italicized text* and **bolded text**. \n\nMarkdown: `Here is some *italicized text* and **bolded text**.`\n\nHere is a link to the [Snowflake website](https://snowflake.com/)\n\nMarkdown: `Here is a link to the [Snowflake website](https://snowflake.com/)`"
    },
    {
      "cell_type": "markdown",
      "id": "7bc5008a-aebb-45a2-9852-aec6142e335a",
      "metadata": {
        "name": "cell19",
        "collapsed": false
      },
      "source": "From here on, you can double click onto each Markdown cell to take a look at the underlying Markdown content.\n\nHere is a bulleted list (with emojis \ud83d\ude0a)\n\n- \u2744\ufe0f\n- \u2744\ufe0f\u2744\ufe0f\n- \u2744\ufe0f\u2744\ufe0f\u2744\ufe0f\n    - Nested \u2744\ufe0f\n    - Nested \u2744\ufe0f\u2744\ufe0f"
    },
    {
      "cell_type": "markdown",
      "id": "8e969fb2-d46a-4ce6-9fa5-4032c5fa7de5",
      "metadata": {
        "name": "cell20",
        "collapsed": false
      },
      "source": "## Formatting code\n\nPython: \n```python\nimport pandas as pd\ndf = pd.DataFrame([1,2,3])\n```\n\nSQL: \n```sql\nSELECT * FROM MYTABLE\n```\n\nInline Code formatting: \n\nMy data is stored in `DB.SCHEMA`. "
    },
    {
      "cell_type": "markdown",
      "id": "ca69a287-6866-4fa9-b610-ec9b8e28b9ba",
      "metadata": {
        "name": "cell21",
        "collapsed": false
      },
      "source": "## Embedding Images \ud83d\uddbc\ufe0f\n\n\nYou can use the Markdown Syntax to embed images in your notebook.\n```\n![](https://www.snowflake.com/wp-content/themes/snowflake/assets/img/brand-guidelines/logo-sno-blue-example.svg)\n```\n![](https://www.snowflake.com/wp-content/themes/snowflake/assets/img/brand-guidelines/logo-sno-blue-example.svg)\n\n\nIt even works with a GIF animation!\n\n```\n![](https://upload.wikimedia.org/wikipedia/commons/2/2c/Rotating_earth_%28large%29.gif)\n```\n![](https://upload.wikimedia.org/wikipedia/commons/2/2c/Rotating_earth_%28large%29.gif)"
    },
    {
      "cell_type": "markdown",
      "id": "37bbb377-515d-4559-beb0-7450d9c33828",
      "metadata": {
        "name": "cell22",
        "collapsed": false
      },
      "source": "## Bring your Notebook alive with Streamlit\n\nYou can bring your data narrative alive in notebooks and make it even more interactive by using Streamlit.\n\n[Streamlit](https://streamlit.io/) is an open-source framework for building interactive data apps in Python (not a single line of HTML or Javascript required!)\n\nUnlike in other notebooks where you need to navigate to a separate terminal window to serve up your Streamlit app, you can test and develop your Streamlit app directly in your notebook. \n\nWe saw how you can embed images using Markdown. Here we show how you can embed images in your notebook using Streamlit which gives you more image customization options."
    },
    {
      "cell_type": "code",
      "id": "57910a57-50b2-4e40-ae30-5cd123bf65c3",
      "metadata": {
        "language": "python",
        "name": "cell23",
        "codeCollapsed": false,
        "collapsed": false
      },
      "outputs": [],
      "source": "import streamlit as st\nst.image(\"https://www.snowflake.com/wp-content/themes/snowflake/assets/img/brand-guidelines/logo-sno-blue-example.svg\",width=500)",
      "execution_count": null
    },
    {
      "cell_type": "code",
      "id": "08bf80ac-bc12-4e41-8079-cfff2ce29e7d",
      "metadata": {
        "language": "python",
        "name": "cell24",
        "collapsed": false
      },
      "outputs": [],
      "source": "# Also works with a GIF animation!\nst.image(\"https://upload.wikimedia.org/wikipedia/commons/2/2c/Rotating_earth_%28large%29.gif\", caption=\"Rotating Earth!\")",
      "execution_count": null
    },
    {
      "cell_type": "markdown",
      "id": "c3bd5c15-eca9-4ba5-a4b4-06a280b2f992",
      "metadata": {
        "name": "cell25",
        "collapsed": false
      },
      "source": "Let's say you have some images in your Snowflake stage, you can stream in the image file and display it with Streamlit."
    },
    {
      "cell_type": "code",
      "id": "317e0475-7e55-449b-89dc-a2057f1bf90a",
      "metadata": {
        "language": "sql",
        "name": "cell26",
        "codeCollapsed": false,
        "collapsed": false
      },
      "outputs": [],
      "source": "LS @IMAGE_STAGE;",
      "execution_count": null
    },
    {
      "cell_type": "code",
      "id": "57bc8d6a-c5d3-48f2-a835-8ca8f15602be",
      "metadata": {
        "language": "python",
        "name": "cell27",
        "codeCollapsed": false,
        "collapsed": false
      },
      "outputs": [],
      "source": "from snowflake.snowpark.context import get_active_session\nsession = get_active_session()\nimage=session.file.get_stream(\"@IMAGE_STAGE/snowflake-logo.png\", decompress=False).read() \nst.image(image)",
      "execution_count": null
    },
    {
      "cell_type": "markdown",
      "id": "941238e2-3632-49c3-a76c-d1d22345688c",
      "metadata": {
        "name": "cell28",
        "collapsed": false
      },
      "source": "## Interactive data apps \ud83d\udd79\ufe0f\n\nThink of each cell in your Snowflake Notebook as a mini Streamlit app. As you interact with your data app, the relevant cells will get re-executed and the results in your app updates.\n"
    },
    {
      "cell_type": "code",
      "id": "aca7e5b1-78a5-4799-bc9a-af44c777a333",
      "metadata": {
        "language": "python",
        "name": "cell29",
        "codeCollapsed": false,
        "collapsed": false
      },
      "outputs": [],
      "source": "st.markdown(\"\"\"# Interactive Filtering with Streamlit! :balloon: \nValues will automatically cascade down the notebook cells\"\"\")\nvalue = st.slider(\"Move the slider to change the filter value \ud83d\udc47\", df.value.min(), df.value.max(), df.value.mean(), step = 0.3 )",
      "execution_count": null
    },
    {
      "cell_type": "code",
      "id": "1f39f7e7-f7ac-4da4-afea-609b2f3e30af",
      "metadata": {
        "language": "python",
        "name": "cell30",
        "codeCollapsed": false,
        "collapsed": false
      },
      "outputs": [],
      "source": "# Filter the table from above using the Streamlit slider\ndf[df[\"value\"]>value].sort_values(\"value\")",
      "execution_count": null
    },
    {
      "cell_type": "code",
      "id": "833d0b00-65e1-4606-8e09-47e687949e8f",
      "metadata": {
        "language": "python",
        "name": "cell31",
        "codeCollapsed": false
      },
      "outputs": [],
      "source": "alt.Chart(df).mark_bar().encode(\n    x= alt.X(\"measurement\", axis = alt.Axis(labelAngle=0)),\n    y=\"value\",\n    color=\"species\"\n).properties(width=500,height=300)",
      "execution_count": null
    },
    {
      "cell_type": "markdown",
      "id": "4c568906-1bfe-4f9c-9d39-eed4c80ccb9d",
      "metadata": {
        "name": "cell32",
        "collapsed": false
      },
      "source": "# Now it's your turn! \ud83d\ude4c \n\nTry out Notebooks yourself to build your own data narrative!"
    }
  ]
}